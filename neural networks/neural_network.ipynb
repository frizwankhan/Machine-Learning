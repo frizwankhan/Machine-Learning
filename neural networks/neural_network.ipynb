{
 "cells": [
  {
   "cell_type": "markdown",
   "metadata": {},
   "source": [
    "# An implementation of Neural Network\n",
    "\n"
   ]
  },
  {
   "cell_type": "code",
   "execution_count": 33,
   "metadata": {},
   "outputs": [],
   "source": [
    "import numpy as np\n",
    "import pandas as pd \n",
    "import matplotlib.pyplot as plt"
   ]
  },
  {
   "cell_type": "code",
   "execution_count": 34,
   "metadata": {},
   "outputs": [],
   "source": [
    "def sigmoid(z):\n",
    "    A = 1/(1+mp.exp(-z))\n",
    "    cache=z\n",
    "    return A, cache\n",
    "    "
   ]
  },
  {
   "cell_type": "code",
   "execution_count": 35,
   "metadata": {},
   "outputs": [],
   "source": [
    "def relu(z):\n",
    "    A = np.maximum(0,z)\n",
    "    cache=z\n",
    "    return A, cache"
   ]
  },
  {
   "cell_type": "code",
   "execution_count": 36,
   "metadata": {},
   "outputs": [],
   "source": [
    "def sigmoid_backward(dA, Z):\n",
    "    \n",
    "    s=1/(1+np.exp(-z))\n",
    "    dZ = dA*s*(1-s)\n",
    "    \n",
    "    return(dZ)"
   ]
  },
  {
   "cell_type": "code",
   "execution_count": 37,
   "metadata": {},
   "outputs": [],
   "source": [
    "def relu_backward(dA, Z):\n",
    "    \n",
    "    dZ = np.array(dA,copy=True)\n",
    "    dZ[Z <=0] = 0\n",
    "    return dZ"
   ]
  },
  {
   "cell_type": "code",
   "execution_count": 38,
   "metadata": {},
   "outputs": [],
   "source": [
    "def tanh(z):\n",
    "    A = (np.exp(z)-np.exp(-z))/(np.exp(z)+np.exp(-z))\n",
    "    return A, z"
   ]
  },
  {
   "cell_type": "code",
   "execution_count": 39,
   "metadata": {},
   "outputs": [],
   "source": [
    "def initialize_parameters(layers_dims, initialization_method=\"random\"):\n",
    "    \n",
    "    # layers_dims- python array containing the dimensions of each layer\n",
    "    \n",
    "    parameters = {}\n",
    "    L = len(layers_dims)\n",
    "    \n",
    "    if initialization_method==\"random\":\n",
    "        for l in range(1,L):\n",
    "            parameters[\"W\"+str(l)] = np.random.randn(layers_dims[l],layers_dims[l-1])*0.01\n",
    "            parameters[b+str(l)] = np.zeros((layers_dims[l],1))\n",
    "    if initialization_method==\"xavier\":\n",
    "        for l in range(1,L):\n",
    "            parameters[\"W\"+str(l)] = np.random.randn(layers_dims[l],layers_dims[l-1])*np.sqrt(2/layers_dims[l-1])\n",
    "            parameters[b+str(l)] = np.zeros((layers_dims[l],1))\n",
    "    if initialization_methos==\"he\":\n",
    "        for l in range(1,L):\n",
    "            parameters[\"W\"+str(l)] = np.random.randn(layers_dims[l],layers_dims[l-1])*np.sqrt(1/layers_dims[l-1])\n",
    "            parameters[b+str(l)] = np.zeros((layers_dims[l],1))\n",
    "            \n",
    "    return parameters\n"
   ]
  },
  {
   "cell_type": "code",
   "execution_count": 40,
   "metadata": {},
   "outputs": [],
   "source": [
    "def forward_propagation(X, parameters, activation=\"relu\", regularization=None, keep_prob=0.5):\n",
    "    \n",
    "    A = X\n",
    "    L = len(parameters)//2\n",
    "    caches={}\n",
    "    \n",
    "    if activation==\"relu\":\n",
    "        for l in range(1,L):\n",
    "            A_prev = A\n",
    "            Z = np.dot(parameters[\"W\"+str(l)], A_prev) + parameters[\"b\"+str(l)]\n",
    "            A, Z = relu(Z)\n",
    "            if regularization==\"dropout\":\n",
    "                D = (np.random.rand(A.shape[0], A.shape[1])<keep_probs).astype(int)\n",
    "                A = (A*D)/keep_prob\n",
    "                \n",
    "            linear_cache = (A_prev,parameters[\"W\"+str(l)],parameters[\"b\"+str(l)])\n",
    "            activation_cache = Z\n",
    "            caches[l] = (linear_cache, activation_cache)\n",
    "    \n",
    "    if activation==\"tanh\":\n",
    "        for l in range(1,L):\n",
    "            A_prev = A\n",
    "            Z = np.dot(parameters[\"W\"+str(l)], A_prev) + parameters[\"b\"+str(l)]\n",
    "            A, Z = tanh(Z)\n",
    "            linear_cache = (A_prev,parameters[\"W\"+str(l)],parameters[\"b\"+str(l)])\n",
    "            activation_cache = Z\n",
    "            caches[l] = (linear_cache, activation_cache)\n",
    "    \n",
    "    Z = np.dot(parameters[\"W\"+str(L)], A) + parameters[\"b\"+str(L)]\n",
    "    AL, Z = sigmoid(Z)\n",
    "    caches[L] = ((A,parameters[\"W\"+str(L)],parameters[\"b\"+str(L)]), Z)\n",
    "    \n",
    "    return AL,caches"
   ]
  },
  {
   "cell_type": "code",
   "execution_count": 41,
   "metadata": {},
   "outputs": [],
   "source": [
    "def compute_cost(AL ,Y ,caches, regularization=None, lambd=0.7):\n",
    "    \n",
    "    m = Y.shape[1]\n",
    "    L = len(parameters)//2\n",
    "    \n",
    "    \n",
    "    if regularization==\"L2\":\n",
    "        cost = -(np.sum(Y*np.log(AL) + (1-Y)*np.log(1-AL)))/m\n",
    "        for l in range(1, L+1):\n",
    "            cost += (lambd*(np.sum(np.square(caches[l][0][1]))))/(2*m)\n",
    "    else:\n",
    "        cost = -(np.sum(Y*np.log(AL) + (1-Y)*np.log(1-AL)))/m\n",
    "    \n",
    "    \n",
    "    cost = np.squeeze(cost)\n",
    "    return cost\n",
    "    "
   ]
  },
  {
   "cell_type": "code",
   "execution_count": 42,
   "metadata": {},
   "outputs": [],
   "source": [
    "def activation_backward(dA, cache, activation, regularization, lambd):\n",
    "    \n",
    "    linear_cache, activation_cache = cache\n",
    "    \n",
    "    if activation==\"relu\":\n",
    "        dZ = relu_backward(dA, activation_cache)\n",
    "        \n",
    "        if regularization==\"L2\":\n",
    "            dW = np.dot(dZ, linear_cache[0].T)/m + (lambd/m)*linear_cache[1]\n",
    "        else:\n",
    "            dW = np.dot(dZ, linear_cache[0].T)/m\n",
    "        db = np.sum(dZ, axis=1, keepdims=True)/m\n",
    "        dA_prev = np.dot(W.T, dZ)\n",
    "    elif activation==\"sigmoid\":\n",
    "        dZ = sigmoid_backward(dA, activation_cache)\n",
    "        if regularization==\"L2\":\n",
    "            dW = np.dot(dZ, linear_cache[0].T)/m + (lambd/m)*linear_cache[1]\n",
    "        else:\n",
    "            dW = np.dot(dZ, linear_cache[0].T)/m\n",
    "        db = np.sum(dZ, axis=1, keepdims=True)/m\n",
    "        dA_prev = np.dot(W.T, dZ)\n",
    "        \n",
    "    return dA_prev, dW, db"
   ]
  },
  {
   "cell_type": "code",
   "execution_count": 43,
   "metadata": {},
   "outputs": [],
   "source": [
    "def backward_propagation(AL, Y, caches, regularization=None, lambd=0.7):\n",
    "    \n",
    "    grads={}\n",
    "    L = len(caches)\n",
    "    m = Y.shape[1]\n",
    "    Y = Y.reshape(AL.shape)\n",
    "    \n",
    "    dAL = -np.divide(Y,AL) + np.divide(1-Y, 1-AL)\n",
    "    \n",
    "    grads[\"dA\"+str(L-1)], grads[\"dW\"+str(L)], grads[\"db\"+str(L)] = activation_backward(dAL, caches[L], \"sigmoid\", regularization=regularization, lambd=lambd)\n",
    "    \n",
    "    for l in reversed(range(1, L)):\n",
    "        \n",
    "        \n",
    "        dA_prev_temp, dW_temp, db_temp = activation_backward(grads[\"dA\"+str(l)], caches[l], \"relu\", regularization=regularization, lambd=lambd)\n",
    "        grads[\"dA\"+str(l-1)] = dA_prev_temp\n",
    "        grads[\"dW\"+str(l)] = dW_temp\n",
    "        grads[\"db\"+str(l)] = db_temp\n",
    "        \n",
    "    return grads\n",
    "        "
   ]
  },
  {
   "cell_type": "code",
   "execution_count": 44,
   "metadata": {},
   "outputs": [],
   "source": [
    "def update_parameters(parameters, grads, learning_rate):\n",
    "    \n",
    "    L = len(parameters)//2\n",
    "    \n",
    "    for l in range(1,L+1):\n",
    "        parameters[\"W\"+str(l)] -= learning_rate*grads[\"dW\"+str(l)]\n",
    "        parameters[\"b\"+str(l)] -= learning_rate*grads[\"db\"+str(l)]\n",
    "    \n",
    "    return parameters"
   ]
  },
  {
   "cell_type": "code",
   "execution_count": 45,
   "metadata": {},
   "outputs": [],
   "source": [
    "def mini_batch_generator(X, Y, mini_batch_size=64):\n",
    "    \n",
    "    m = X.shape[1]\n",
    "    mini_batches=[]\n",
    "    permutation = list(np.random.permutation(m))\n",
    "    shuffled_X =X[:, permutation]\n",
    "    shuffled_y =Y[:, permutation].reshape((1,m))\n",
    "    no_complete_minibatches = math.floor(m/mini_batch_size)\n",
    "    for k in range(no_complete_minibatches):\n",
    "        mini_batch_X = shuffled_X[:,k*mini_batch_size:(k+1)*mini_batch_size]\n",
    "        mini_batch_Y = shuffled_Y[:,k*mini_batch_size:(k+1)*mini_batch_size]\n",
    "        mini_batch = (mini_batch_X, mini_batch_Y)\n",
    "        mini_batches.append(mini_batch)\n",
    "        \n",
    "    if m%mini_batch_size !=0 :\n",
    "        mini_batch_X = shuffled_X[:,no_complete_minibatches*mini_batch_size:]\n",
    "        mini_batch_Y = shuffled_Y[:,no_complete_minibatches*mini_batch_size:]\n",
    "        mini_batch = (mini_batch_X, mini_batch_Y)\n",
    "        mini_batches.append(mini_batch)\n",
    "    \n",
    "    return mini_batches"
   ]
  },
  {
   "cell_type": "code",
   "execution_count": null,
   "metadata": {},
   "outputs": [],
   "source": []
  },
  {
   "cell_type": "code",
   "execution_count": 46,
   "metadata": {},
   "outputs": [],
   "source": [
    "def model(X, Y, layers_dims, learning_rate=0.0075, num_iterations=3000, print_cost=False, regul=None, mini_batch=False, num_epochs=10000, mini_batch_size=64):\n",
    "    \n",
    "    costs=[]\n",
    "    \n",
    "    parameters = initialize_parameters(layers_dims, initialization_method=\"xavier\")\n",
    "    \n",
    "    if mini_batch:\n",
    "        for i in range(num_epochs):\n",
    "            cost_total=0\n",
    "            minibatches = mini_batch_generator(X,Y, mini_batch_size=mini_batch_size)\n",
    "            \n",
    "            for minibatch in minibatches:\n",
    "                X, Y = minibatch\n",
    "                AL, caches = forward_propagation(X, parameters, regularization=regu)\n",
    "            \n",
    "                if regularization is None:\n",
    "                    cost_total+= compute_cost(AL,Y, caches)\n",
    "                else:\n",
    "                    cost_total+= compute_cost(AL,Y,caches,regulatization=regul)\n",
    "        \n",
    "                grads = backward_propagation(AL, Y, caches, regularization=regul)\n",
    "        \n",
    "                parameters = update_parameters(parameters, grads, learning_rate)\n",
    "            cost.append(cost_total/m)\n",
    "            if print_cost and i%100==0 :\n",
    "                print(f\"cost after {i} iterations is {cost}\")\n",
    "    \n",
    "    else:\n",
    "        for i in range(num_iterations):\n",
    "        \n",
    "            AL, caches = forward_propagation(X, parameters, regularization=regu)\n",
    "            \n",
    "            if regularization is None:\n",
    "                cost = compute_cost(AL,Y, caches)\n",
    "            else:\n",
    "                cost = compute_cost(AL,Y,caches,regulatization=regul)\n",
    "        \n",
    "            grads = backward_propagation(AL, Y, caches, regularization=regul)\n",
    "        \n",
    "            parameters = update_parameters(parameters, grads, learning_rate)\n",
    "        \n",
    "            if print_cost and i%100==0 :\n",
    "                print(f\"cost after {i} iterations is {cost}\")\n",
    "                costs.append(cost)\n",
    "        \n",
    "    plt.plot(costs)\n",
    "    plt.show()\n",
    "    return parameters\n",
    "    "
   ]
  },
  {
   "cell_type": "code",
   "execution_count": null,
   "metadata": {},
   "outputs": [],
   "source": []
  },
  {
   "cell_type": "code",
   "execution_count": null,
   "metadata": {},
   "outputs": [],
   "source": []
  }
 ],
 "metadata": {
  "kernelspec": {
   "display_name": "Python 3",
   "language": "python",
   "name": "python3"
  },
  "language_info": {
   "codemirror_mode": {
    "name": "ipython",
    "version": 3
   },
   "file_extension": ".py",
   "mimetype": "text/x-python",
   "name": "python",
   "nbconvert_exporter": "python",
   "pygments_lexer": "ipython3",
   "version": "3.7.6"
  }
 },
 "nbformat": 4,
 "nbformat_minor": 4
}
